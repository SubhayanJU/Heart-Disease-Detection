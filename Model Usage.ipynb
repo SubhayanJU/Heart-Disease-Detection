{
 "cells": [
  {
   "cell_type": "code",
   "execution_count": 1,
   "id": "71c0fc66-dafe-49e8-ada4-fefd03a774b9",
   "metadata": {},
   "outputs": [],
   "source": [
    "import numpy as np"
   ]
  },
  {
   "cell_type": "code",
   "execution_count": 2,
   "id": "8306889b-9606-4d81-a84c-6117e2b4a9dc",
   "metadata": {},
   "outputs": [],
   "source": [
    "from joblib import dump,load\n",
    "model = load('Heart_Disease_Predictor.joblib')"
   ]
  },
  {
   "cell_type": "code",
   "execution_count": 3,
   "id": "9da88ad5-634f-4c24-8350-51be858a743f",
   "metadata": {},
   "outputs": [],
   "source": [
    "input = np.random.randint(1,55,13).reshape(1,13)"
   ]
  },
  {
   "cell_type": "code",
   "execution_count": 4,
   "id": "1a97cdde-25dc-48ce-bae7-f568516bb5ff",
   "metadata": {},
   "outputs": [
    {
     "data": {
      "text/plain": [
       "array([[32, 13, 26, 23, 33, 41, 15, 21, 23, 52, 20,  3, 24]])"
      ]
     },
     "execution_count": 4,
     "metadata": {},
     "output_type": "execute_result"
    }
   ],
   "source": [
    "input"
   ]
  },
  {
   "cell_type": "code",
   "execution_count": 5,
   "id": "30c8fe96-9fbf-4327-b9d6-e09feda6bb99",
   "metadata": {},
   "outputs": [
    {
     "name": "stderr",
     "output_type": "stream",
     "text": [
      "C:\\python 3.10\\lib\\site-packages\\sklearn\\base.py:493: UserWarning: X does not have valid feature names, but LogisticRegression was fitted with feature names\n",
      "  warnings.warn(\n"
     ]
    },
    {
     "data": {
      "text/plain": [
       "array([0], dtype=int64)"
      ]
     },
     "execution_count": 5,
     "metadata": {},
     "output_type": "execute_result"
    }
   ],
   "source": [
    "model.predict(input)"
   ]
  },
  {
   "cell_type": "markdown",
   "id": "8b6f8613-b02f-4d0e-886f-2e8b48f5db65",
   "metadata": {},
   "source": [
    "## 0 --> The person has heart disease\n",
    "## 1 --> The person doesn't have heart disease"
   ]
  },
  {
   "cell_type": "code",
   "execution_count": null,
   "id": "fd73f00b-9e4e-43af-a55e-ef31dcf9a050",
   "metadata": {},
   "outputs": [],
   "source": []
  }
 ],
 "metadata": {
  "kernelspec": {
   "display_name": "Python 3 (ipykernel)",
   "language": "python",
   "name": "python3"
  },
  "language_info": {
   "codemirror_mode": {
    "name": "ipython",
    "version": 3
   },
   "file_extension": ".py",
   "mimetype": "text/x-python",
   "name": "python",
   "nbconvert_exporter": "python",
   "pygments_lexer": "ipython3",
   "version": "3.10.6"
  }
 },
 "nbformat": 4,
 "nbformat_minor": 5
}
